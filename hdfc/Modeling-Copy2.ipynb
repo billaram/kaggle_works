{
 "cells": [
  {
   "cell_type": "code",
   "execution_count": 210,
   "metadata": {},
   "outputs": [],
   "source": [
    "import pandas as pd\n",
    "import numpy as np\n",
    "import matplotlib.pyplot as plt\n",
    "import json\n",
    "%matplotlib inline"
   ]
  },
  {
   "cell_type": "code",
   "execution_count": null,
   "metadata": {},
   "outputs": [],
   "source": []
  },
  {
   "cell_type": "code",
   "execution_count": 2,
   "metadata": {},
   "outputs": [],
   "source": [
    "from sklearn.metrics import accuracy_score,f1_score,confusion_matrix, classification_report,precision_recall_curve\n",
    "from sklearn import preprocessing\n"
   ]
  },
  {
   "cell_type": "code",
   "execution_count": 28,
   "metadata": {},
   "outputs": [],
   "source": [
    "from sklearn.model_selection import train_test_split\n",
    "from keras.utils import to_categorical"
   ]
  },
  {
   "cell_type": "code",
   "execution_count": 4,
   "metadata": {},
   "outputs": [
    {
     "name": "stderr",
     "output_type": "stream",
     "text": [
      "/usr/local/lib/python3.5/dist-packages/tensorflow/python/framework/dtypes.py:516: FutureWarning: Passing (type, 1) or '1type' as a synonym of type is deprecated; in a future version of numpy, it will be understood as (type, (1,)) / '(1,)type'.\n",
      "  _np_qint8 = np.dtype([(\"qint8\", np.int8, 1)])\n",
      "/usr/local/lib/python3.5/dist-packages/tensorflow/python/framework/dtypes.py:517: FutureWarning: Passing (type, 1) or '1type' as a synonym of type is deprecated; in a future version of numpy, it will be understood as (type, (1,)) / '(1,)type'.\n",
      "  _np_quint8 = np.dtype([(\"quint8\", np.uint8, 1)])\n",
      "/usr/local/lib/python3.5/dist-packages/tensorflow/python/framework/dtypes.py:518: FutureWarning: Passing (type, 1) or '1type' as a synonym of type is deprecated; in a future version of numpy, it will be understood as (type, (1,)) / '(1,)type'.\n",
      "  _np_qint16 = np.dtype([(\"qint16\", np.int16, 1)])\n",
      "/usr/local/lib/python3.5/dist-packages/tensorflow/python/framework/dtypes.py:519: FutureWarning: Passing (type, 1) or '1type' as a synonym of type is deprecated; in a future version of numpy, it will be understood as (type, (1,)) / '(1,)type'.\n",
      "  _np_quint16 = np.dtype([(\"quint16\", np.uint16, 1)])\n",
      "/usr/local/lib/python3.5/dist-packages/tensorflow/python/framework/dtypes.py:520: FutureWarning: Passing (type, 1) or '1type' as a synonym of type is deprecated; in a future version of numpy, it will be understood as (type, (1,)) / '(1,)type'.\n",
      "  _np_qint32 = np.dtype([(\"qint32\", np.int32, 1)])\n",
      "/usr/local/lib/python3.5/dist-packages/tensorflow/python/framework/dtypes.py:525: FutureWarning: Passing (type, 1) or '1type' as a synonym of type is deprecated; in a future version of numpy, it will be understood as (type, (1,)) / '(1,)type'.\n",
      "  np_resource = np.dtype([(\"resource\", np.ubyte, 1)])\n",
      "/usr/local/lib/python3.5/dist-packages/tensorboard/compat/tensorflow_stub/dtypes.py:541: FutureWarning: Passing (type, 1) or '1type' as a synonym of type is deprecated; in a future version of numpy, it will be understood as (type, (1,)) / '(1,)type'.\n",
      "  _np_qint8 = np.dtype([(\"qint8\", np.int8, 1)])\n",
      "/usr/local/lib/python3.5/dist-packages/tensorboard/compat/tensorflow_stub/dtypes.py:542: FutureWarning: Passing (type, 1) or '1type' as a synonym of type is deprecated; in a future version of numpy, it will be understood as (type, (1,)) / '(1,)type'.\n",
      "  _np_quint8 = np.dtype([(\"quint8\", np.uint8, 1)])\n",
      "/usr/local/lib/python3.5/dist-packages/tensorboard/compat/tensorflow_stub/dtypes.py:543: FutureWarning: Passing (type, 1) or '1type' as a synonym of type is deprecated; in a future version of numpy, it will be understood as (type, (1,)) / '(1,)type'.\n",
      "  _np_qint16 = np.dtype([(\"qint16\", np.int16, 1)])\n",
      "/usr/local/lib/python3.5/dist-packages/tensorboard/compat/tensorflow_stub/dtypes.py:544: FutureWarning: Passing (type, 1) or '1type' as a synonym of type is deprecated; in a future version of numpy, it will be understood as (type, (1,)) / '(1,)type'.\n",
      "  _np_quint16 = np.dtype([(\"quint16\", np.uint16, 1)])\n",
      "/usr/local/lib/python3.5/dist-packages/tensorboard/compat/tensorflow_stub/dtypes.py:545: FutureWarning: Passing (type, 1) or '1type' as a synonym of type is deprecated; in a future version of numpy, it will be understood as (type, (1,)) / '(1,)type'.\n",
      "  _np_qint32 = np.dtype([(\"qint32\", np.int32, 1)])\n",
      "/usr/local/lib/python3.5/dist-packages/tensorboard/compat/tensorflow_stub/dtypes.py:550: FutureWarning: Passing (type, 1) or '1type' as a synonym of type is deprecated; in a future version of numpy, it will be understood as (type, (1,)) / '(1,)type'.\n",
      "  np_resource = np.dtype([(\"resource\", np.ubyte, 1)])\n"
     ]
    }
   ],
   "source": [
    "import tensorflow as tf"
   ]
  },
  {
   "cell_type": "code",
   "execution_count": 5,
   "metadata": {},
   "outputs": [],
   "source": [
    "df = pd.read_csv('./input/Train_dt_v3.csv')"
   ]
  },
  {
   "cell_type": "code",
   "execution_count": null,
   "metadata": {},
   "outputs": [],
   "source": []
  },
  {
   "cell_type": "code",
   "execution_count": null,
   "metadata": {},
   "outputs": [],
   "source": []
  },
  {
   "cell_type": "code",
   "execution_count": 7,
   "metadata": {},
   "outputs": [],
   "source": [
    "def drop_col(df,columns):\n",
    "    df.drop(columns=columns, axis=1, inplace=True)\n",
    "    return df"
   ]
  },
  {
   "cell_type": "code",
   "execution_count": 8,
   "metadata": {},
   "outputs": [],
   "source": [
    "df = drop_col(df,['Col1'])"
   ]
  },
  {
   "cell_type": "code",
   "execution_count": 9,
   "metadata": {},
   "outputs": [],
   "source": [
    "df_0 =  df[df['Col2'] == 0]"
   ]
  },
  {
   "cell_type": "code",
   "execution_count": 10,
   "metadata": {},
   "outputs": [
    {
     "data": {
      "text/html": [
       "<div>\n",
       "<style scoped>\n",
       "    .dataframe tbody tr th:only-of-type {\n",
       "        vertical-align: middle;\n",
       "    }\n",
       "\n",
       "    .dataframe tbody tr th {\n",
       "        vertical-align: top;\n",
       "    }\n",
       "\n",
       "    .dataframe thead th {\n",
       "        text-align: right;\n",
       "    }\n",
       "</style>\n",
       "<table border=\"1\" class=\"dataframe\">\n",
       "  <thead>\n",
       "    <tr style=\"text-align: right;\">\n",
       "      <th></th>\n",
       "      <th>Col2</th>\n",
       "      <th>Col3</th>\n",
       "      <th>Col4</th>\n",
       "      <th>Col5</th>\n",
       "      <th>Col6</th>\n",
       "      <th>Col7</th>\n",
       "      <th>Col8</th>\n",
       "      <th>Col9</th>\n",
       "      <th>Col10</th>\n",
       "      <th>Col11</th>\n",
       "      <th>...</th>\n",
       "      <th>Col2388</th>\n",
       "      <th>Col2389</th>\n",
       "      <th>Col2390</th>\n",
       "      <th>Col2391</th>\n",
       "      <th>Col2392</th>\n",
       "      <th>Col2393</th>\n",
       "      <th>Col2394</th>\n",
       "      <th>Col2395</th>\n",
       "      <th>Col2396</th>\n",
       "      <th>Col2397</th>\n",
       "    </tr>\n",
       "  </thead>\n",
       "  <tbody>\n",
       "    <tr>\n",
       "      <td>0</td>\n",
       "      <td>1</td>\n",
       "      <td>10867.110000</td>\n",
       "      <td>8648.345000</td>\n",
       "      <td>15766.179090</td>\n",
       "      <td>28904.661670</td>\n",
       "      <td>5273.655000</td>\n",
       "      <td>23461.531670</td>\n",
       "      <td>12855.971630</td>\n",
       "      <td>28715.088760</td>\n",
       "      <td>9114.586439</td>\n",
       "      <td>...</td>\n",
       "      <td>0</td>\n",
       "      <td>1</td>\n",
       "      <td>0</td>\n",
       "      <td>1</td>\n",
       "      <td>214.0</td>\n",
       "      <td>214.0</td>\n",
       "      <td>68.0</td>\n",
       "      <td>22.0</td>\n",
       "      <td>22.0</td>\n",
       "      <td>7.0</td>\n",
       "    </tr>\n",
       "    <tr>\n",
       "      <td>40</td>\n",
       "      <td>1</td>\n",
       "      <td>121155.360000</td>\n",
       "      <td>126414.303300</td>\n",
       "      <td>108456.508600</td>\n",
       "      <td>126414.303300</td>\n",
       "      <td>119791.583300</td>\n",
       "      <td>119791.583300</td>\n",
       "      <td>85149.821140</td>\n",
       "      <td>85149.821140</td>\n",
       "      <td>95135.691920</td>\n",
       "      <td>...</td>\n",
       "      <td>0</td>\n",
       "      <td>0</td>\n",
       "      <td>0</td>\n",
       "      <td>0</td>\n",
       "      <td>6.0</td>\n",
       "      <td>6.0</td>\n",
       "      <td>4.0</td>\n",
       "      <td>8.0</td>\n",
       "      <td>6.0</td>\n",
       "      <td>1.0</td>\n",
       "    </tr>\n",
       "    <tr>\n",
       "      <td>60</td>\n",
       "      <td>1</td>\n",
       "      <td>2564.933333</td>\n",
       "      <td>754.330000</td>\n",
       "      <td>827.097500</td>\n",
       "      <td>1654.195000</td>\n",
       "      <td>7686.166667</td>\n",
       "      <td>19447.333330</td>\n",
       "      <td>1525.250405</td>\n",
       "      <td>1783.674600</td>\n",
       "      <td>12993.704910</td>\n",
       "      <td>...</td>\n",
       "      <td>0</td>\n",
       "      <td>0</td>\n",
       "      <td>0</td>\n",
       "      <td>0</td>\n",
       "      <td>60.0</td>\n",
       "      <td>60.0</td>\n",
       "      <td>54.0</td>\n",
       "      <td>17.0</td>\n",
       "      <td>17.0</td>\n",
       "      <td>13.0</td>\n",
       "    </tr>\n",
       "    <tr>\n",
       "      <td>69</td>\n",
       "      <td>1</td>\n",
       "      <td>1124.356667</td>\n",
       "      <td>1802.221667</td>\n",
       "      <td>1544.761429</td>\n",
       "      <td>1802.221667</td>\n",
       "      <td>184.663333</td>\n",
       "      <td>184.663333</td>\n",
       "      <td>1422.240068</td>\n",
       "      <td>1422.240068</td>\n",
       "      <td>208.718556</td>\n",
       "      <td>...</td>\n",
       "      <td>2</td>\n",
       "      <td>0</td>\n",
       "      <td>2</td>\n",
       "      <td>0</td>\n",
       "      <td>106.0</td>\n",
       "      <td>106.0</td>\n",
       "      <td>23.0</td>\n",
       "      <td>25.0</td>\n",
       "      <td>25.0</td>\n",
       "      <td>6.0</td>\n",
       "    </tr>\n",
       "    <tr>\n",
       "      <td>75</td>\n",
       "      <td>1</td>\n",
       "      <td>11568.503330</td>\n",
       "      <td>3969.626000</td>\n",
       "      <td>3696.033636</td>\n",
       "      <td>8129.210000</td>\n",
       "      <td>13085.339000</td>\n",
       "      <td>31545.878000</td>\n",
       "      <td>5776.845493</td>\n",
       "      <td>5688.282954</td>\n",
       "      <td>19372.588090</td>\n",
       "      <td>...</td>\n",
       "      <td>1</td>\n",
       "      <td>1</td>\n",
       "      <td>1</td>\n",
       "      <td>1</td>\n",
       "      <td>90.0</td>\n",
       "      <td>88.0</td>\n",
       "      <td>62.0</td>\n",
       "      <td>30.0</td>\n",
       "      <td>28.0</td>\n",
       "      <td>18.0</td>\n",
       "    </tr>\n",
       "  </tbody>\n",
       "</table>\n",
       "<p>5 rows × 2172 columns</p>\n",
       "</div>"
      ],
      "text/plain": [
       "    Col2           Col3           Col4           Col5           Col6  \\\n",
       "0      1   10867.110000    8648.345000   15766.179090   28904.661670   \n",
       "40     1  121155.360000  126414.303300  108456.508600  126414.303300   \n",
       "60     1    2564.933333     754.330000     827.097500    1654.195000   \n",
       "69     1    1124.356667    1802.221667    1544.761429    1802.221667   \n",
       "75     1   11568.503330    3969.626000    3696.033636    8129.210000   \n",
       "\n",
       "             Col7           Col8          Col9         Col10         Col11  \\\n",
       "0     5273.655000   23461.531670  12855.971630  28715.088760   9114.586439   \n",
       "40  119791.583300  119791.583300  85149.821140  85149.821140  95135.691920   \n",
       "60    7686.166667   19447.333330   1525.250405   1783.674600  12993.704910   \n",
       "69     184.663333     184.663333   1422.240068   1422.240068    208.718556   \n",
       "75   13085.339000   31545.878000   5776.845493   5688.282954  19372.588090   \n",
       "\n",
       "    ...  Col2388  Col2389  Col2390  Col2391  Col2392  Col2393  Col2394  \\\n",
       "0   ...        0        1        0        1    214.0    214.0     68.0   \n",
       "40  ...        0        0        0        0      6.0      6.0      4.0   \n",
       "60  ...        0        0        0        0     60.0     60.0     54.0   \n",
       "69  ...        2        0        2        0    106.0    106.0     23.0   \n",
       "75  ...        1        1        1        1     90.0     88.0     62.0   \n",
       "\n",
       "    Col2395  Col2396  Col2397  \n",
       "0      22.0     22.0      7.0  \n",
       "40      8.0      6.0      1.0  \n",
       "60     17.0     17.0     13.0  \n",
       "69     25.0     25.0      6.0  \n",
       "75     30.0     28.0     18.0  \n",
       "\n",
       "[5 rows x 2172 columns]"
      ]
     },
     "execution_count": 10,
     "metadata": {},
     "output_type": "execute_result"
    }
   ],
   "source": [
    "df_1 = df[df['Col2'] == 1]\n",
    "df_1.head()"
   ]
  },
  {
   "cell_type": "code",
   "execution_count": 29,
   "metadata": {},
   "outputs": [],
   "source": [
    "def getX_and_Y(df):\n",
    "    Y = df['Col2'].to_numpy()\n",
    "    Y = to_categorical(Y)\n",
    "    X = df[df.columns.difference(['Col2'])].to_numpy()\n",
    "    return X, Y\n",
    "\n",
    "\n"
   ]
  },
  {
   "cell_type": "code",
   "execution_count": null,
   "metadata": {},
   "outputs": [],
   "source": []
  },
  {
   "cell_type": "code",
   "execution_count": 65,
   "metadata": {},
   "outputs": [
    {
     "data": {
      "text/html": [
       "<div>\n",
       "<style scoped>\n",
       "    .dataframe tbody tr th:only-of-type {\n",
       "        vertical-align: middle;\n",
       "    }\n",
       "\n",
       "    .dataframe tbody tr th {\n",
       "        vertical-align: top;\n",
       "    }\n",
       "\n",
       "    .dataframe thead th {\n",
       "        text-align: right;\n",
       "    }\n",
       "</style>\n",
       "<table border=\"1\" class=\"dataframe\">\n",
       "  <thead>\n",
       "    <tr style=\"text-align: right;\">\n",
       "      <th></th>\n",
       "      <th>Col2</th>\n",
       "      <th>Col3</th>\n",
       "      <th>Col4</th>\n",
       "      <th>Col5</th>\n",
       "      <th>Col6</th>\n",
       "      <th>Col7</th>\n",
       "      <th>Col8</th>\n",
       "      <th>Col9</th>\n",
       "      <th>Col10</th>\n",
       "      <th>Col11</th>\n",
       "      <th>...</th>\n",
       "      <th>Col2388</th>\n",
       "      <th>Col2389</th>\n",
       "      <th>Col2390</th>\n",
       "      <th>Col2391</th>\n",
       "      <th>Col2392</th>\n",
       "      <th>Col2393</th>\n",
       "      <th>Col2394</th>\n",
       "      <th>Col2395</th>\n",
       "      <th>Col2396</th>\n",
       "      <th>Col2397</th>\n",
       "    </tr>\n",
       "  </thead>\n",
       "  <tbody>\n",
       "    <tr>\n",
       "      <td>0</td>\n",
       "      <td>1</td>\n",
       "      <td>1.086711e+04</td>\n",
       "      <td>8.648345e+03</td>\n",
       "      <td>1.576618e+04</td>\n",
       "      <td>2.890466e+04</td>\n",
       "      <td>5.273655e+03</td>\n",
       "      <td>2.346153e+04</td>\n",
       "      <td>1.285597e+04</td>\n",
       "      <td>2.871509e+04</td>\n",
       "      <td>9.114586e+03</td>\n",
       "      <td>...</td>\n",
       "      <td>0</td>\n",
       "      <td>1</td>\n",
       "      <td>0</td>\n",
       "      <td>1</td>\n",
       "      <td>214.0</td>\n",
       "      <td>214.0</td>\n",
       "      <td>68.0</td>\n",
       "      <td>22.0</td>\n",
       "      <td>22.0</td>\n",
       "      <td>7.0</td>\n",
       "    </tr>\n",
       "    <tr>\n",
       "      <td>1</td>\n",
       "      <td>0</td>\n",
       "      <td>2.584312e+05</td>\n",
       "      <td>2.179633e+05</td>\n",
       "      <td>1.866287e+05</td>\n",
       "      <td>1.866287e+05</td>\n",
       "      <td>2.154519e+05</td>\n",
       "      <td>1.923615e+05</td>\n",
       "      <td>1.726538e+05</td>\n",
       "      <td>1.666974e+05</td>\n",
       "      <td>2.013518e+05</td>\n",
       "      <td>...</td>\n",
       "      <td>0</td>\n",
       "      <td>0</td>\n",
       "      <td>0</td>\n",
       "      <td>0</td>\n",
       "      <td>41.0</td>\n",
       "      <td>41.0</td>\n",
       "      <td>38.0</td>\n",
       "      <td>12.0</td>\n",
       "      <td>12.0</td>\n",
       "      <td>11.0</td>\n",
       "    </tr>\n",
       "    <tr>\n",
       "      <td>2</td>\n",
       "      <td>0</td>\n",
       "      <td>1.459355e+07</td>\n",
       "      <td>1.260060e+07</td>\n",
       "      <td>1.100315e+07</td>\n",
       "      <td>1.010315e+07</td>\n",
       "      <td>1.879882e+07</td>\n",
       "      <td>1.514035e+07</td>\n",
       "      <td>5.320778e+06</td>\n",
       "      <td>6.906324e+06</td>\n",
       "      <td>9.368338e+06</td>\n",
       "      <td>...</td>\n",
       "      <td>0</td>\n",
       "      <td>1</td>\n",
       "      <td>1</td>\n",
       "      <td>0</td>\n",
       "      <td>378.0</td>\n",
       "      <td>378.0</td>\n",
       "      <td>310.0</td>\n",
       "      <td>21.0</td>\n",
       "      <td>21.0</td>\n",
       "      <td>16.0</td>\n",
       "    </tr>\n",
       "    <tr>\n",
       "      <td>3</td>\n",
       "      <td>0</td>\n",
       "      <td>6.727043e+05</td>\n",
       "      <td>8.181116e+05</td>\n",
       "      <td>6.794893e+05</td>\n",
       "      <td>6.794893e+05</td>\n",
       "      <td>8.257254e+05</td>\n",
       "      <td>7.605803e+05</td>\n",
       "      <td>3.577134e+05</td>\n",
       "      <td>4.236612e+05</td>\n",
       "      <td>4.304848e+05</td>\n",
       "      <td>...</td>\n",
       "      <td>0</td>\n",
       "      <td>0</td>\n",
       "      <td>0</td>\n",
       "      <td>0</td>\n",
       "      <td>702.0</td>\n",
       "      <td>702.0</td>\n",
       "      <td>644.0</td>\n",
       "      <td>951.0</td>\n",
       "      <td>951.0</td>\n",
       "      <td>743.0</td>\n",
       "    </tr>\n",
       "    <tr>\n",
       "      <td>4</td>\n",
       "      <td>0</td>\n",
       "      <td>-1.218742e+06</td>\n",
       "      <td>-3.005361e+06</td>\n",
       "      <td>-1.666241e+05</td>\n",
       "      <td>-2.403574e+06</td>\n",
       "      <td>2.583183e+06</td>\n",
       "      <td>2.086546e+06</td>\n",
       "      <td>5.938358e+06</td>\n",
       "      <td>5.446532e+06</td>\n",
       "      <td>3.473444e+06</td>\n",
       "      <td>...</td>\n",
       "      <td>0</td>\n",
       "      <td>0</td>\n",
       "      <td>0</td>\n",
       "      <td>0</td>\n",
       "      <td>1305.0</td>\n",
       "      <td>1305.0</td>\n",
       "      <td>1211.0</td>\n",
       "      <td>2205.0</td>\n",
       "      <td>2205.0</td>\n",
       "      <td>1831.0</td>\n",
       "    </tr>\n",
       "  </tbody>\n",
       "</table>\n",
       "<p>5 rows × 2172 columns</p>\n",
       "</div>"
      ],
      "text/plain": [
       "   Col2          Col3          Col4          Col5          Col6          Col7  \\\n",
       "0     1  1.086711e+04  8.648345e+03  1.576618e+04  2.890466e+04  5.273655e+03   \n",
       "1     0  2.584312e+05  2.179633e+05  1.866287e+05  1.866287e+05  2.154519e+05   \n",
       "2     0  1.459355e+07  1.260060e+07  1.100315e+07  1.010315e+07  1.879882e+07   \n",
       "3     0  6.727043e+05  8.181116e+05  6.794893e+05  6.794893e+05  8.257254e+05   \n",
       "4     0 -1.218742e+06 -3.005361e+06 -1.666241e+05 -2.403574e+06  2.583183e+06   \n",
       "\n",
       "           Col8          Col9         Col10         Col11  ...  Col2388  \\\n",
       "0  2.346153e+04  1.285597e+04  2.871509e+04  9.114586e+03  ...        0   \n",
       "1  1.923615e+05  1.726538e+05  1.666974e+05  2.013518e+05  ...        0   \n",
       "2  1.514035e+07  5.320778e+06  6.906324e+06  9.368338e+06  ...        0   \n",
       "3  7.605803e+05  3.577134e+05  4.236612e+05  4.304848e+05  ...        0   \n",
       "4  2.086546e+06  5.938358e+06  5.446532e+06  3.473444e+06  ...        0   \n",
       "\n",
       "   Col2389  Col2390  Col2391  Col2392  Col2393  Col2394  Col2395  Col2396  \\\n",
       "0        1        0        1    214.0    214.0     68.0     22.0     22.0   \n",
       "1        0        0        0     41.0     41.0     38.0     12.0     12.0   \n",
       "2        1        1        0    378.0    378.0    310.0     21.0     21.0   \n",
       "3        0        0        0    702.0    702.0    644.0    951.0    951.0   \n",
       "4        0        0        0   1305.0   1305.0   1211.0   2205.0   2205.0   \n",
       "\n",
       "   Col2397  \n",
       "0      7.0  \n",
       "1     11.0  \n",
       "2     16.0  \n",
       "3    743.0  \n",
       "4   1831.0  \n",
       "\n",
       "[5 rows x 2172 columns]"
      ]
     },
     "execution_count": 65,
     "metadata": {},
     "output_type": "execute_result"
    }
   ],
   "source": [
    "df.head()"
   ]
  },
  {
   "cell_type": "code",
   "execution_count": 67,
   "metadata": {},
   "outputs": [
    {
     "data": {
      "text/plain": [
       "array([1., 0.], dtype=float32)"
      ]
     },
     "execution_count": 67,
     "metadata": {},
     "output_type": "execute_result"
    }
   ],
   "source": [
    "Y[1]"
   ]
  },
  {
   "cell_type": "code",
   "execution_count": 30,
   "metadata": {},
   "outputs": [],
   "source": [
    "X, Y = getX_and_Y(df)"
   ]
  },
  {
   "cell_type": "code",
   "execution_count": 31,
   "metadata": {},
   "outputs": [],
   "source": [
    "def normalize_train_X(X):\n",
    "    scaler = preprocessing.MinMaxScaler()\n",
    "    X_transformed = scaler.fit_transform(X)\n",
    "    return X_transformed, scaler"
   ]
  },
  {
   "cell_type": "code",
   "execution_count": 18,
   "metadata": {},
   "outputs": [],
   "source": [
    "X_transformed, transformer = normalize_train_X(X)"
   ]
  },
  {
   "cell_type": "code",
   "execution_count": 22,
   "metadata": {},
   "outputs": [],
   "source": [
    "X_transformed = transformer.transform(full_X)"
   ]
  },
  {
   "cell_type": "code",
   "execution_count": 36,
   "metadata": {},
   "outputs": [
    {
     "name": "stdout",
     "output_type": "stream",
     "text": [
      "(13315, 2171) (701, 2171) (13315, 2) (701, 2)\n"
     ]
    }
   ],
   "source": [
    "X_train, X_test, Y_train, Y_test = train_test_split(X_transformed,Y, test_size=0.20, random_state=42, stratify=Y)\n",
    "X_train, X_val, Y_train, Y_val = train_test_split(X_train,Y_train, test_size=0.05, random_state=42, stratify=Y_train)\n",
    "\n",
    "print(X_train.shape, X_val.shape, Y_train.shape, Y_val.shape)"
   ]
  },
  {
   "cell_type": "code",
   "execution_count": null,
   "metadata": {},
   "outputs": [],
   "source": []
  },
  {
   "cell_type": "code",
   "execution_count": 103,
   "metadata": {},
   "outputs": [],
   "source": [
    "from tensorflow.keras.layers import Input, Dense, Conv1D, MaxPooling1D, UpSampling1D, Flatten, Reshape, Dropout\n",
    "from tensorflow.keras.models import Model\n",
    "from tensorflow.keras import regularizers\n",
    "from tensorflow.keras.callbacks import ModelCheckpoint, ReduceLROnPlateau\n"
   ]
  },
  {
   "cell_type": "code",
   "execution_count": 25,
   "metadata": {},
   "outputs": [
    {
     "data": {
      "text/plain": [
       "(15768, 2171)"
      ]
     },
     "execution_count": 25,
     "metadata": {},
     "output_type": "execute_result"
    }
   ],
   "source": [
    "X_train.shape"
   ]
  },
  {
   "cell_type": "code",
   "execution_count": 39,
   "metadata": {},
   "outputs": [],
   "source": [
    "input_shape = X_train.shape[1]"
   ]
  },
  {
   "cell_type": "code",
   "execution_count": 79,
   "metadata": {},
   "outputs": [],
   "source": [
    "from sklearn.utils import class_weight"
   ]
  },
  {
   "cell_type": "code",
   "execution_count": 88,
   "metadata": {},
   "outputs": [
    {
     "data": {
      "text/plain": [
       "array([0, 1])"
      ]
     },
     "execution_count": 88,
     "metadata": {},
     "output_type": "execute_result"
    }
   ],
   "source": []
  },
  {
   "cell_type": "code",
   "execution_count": 81,
   "metadata": {},
   "outputs": [
    {
     "name": "stdout",
     "output_type": "stream",
     "text": [
      "[0.55590347 4.97199403]\n"
     ]
    }
   ],
   "source": [
    "weights = class_weight.compute_class_weight('balanced',\n",
    "                                            np.unique(np.argmax(Y_train, axis=1)),\n",
    "                                            np.argmax(Y_train, axis=1))\n",
    "print(weights)"
   ]
  },
  {
   "cell_type": "code",
   "execution_count": null,
   "metadata": {},
   "outputs": [],
   "source": []
  },
  {
   "cell_type": "code",
   "execution_count": 92,
   "metadata": {},
   "outputs": [
    {
     "data": {
      "text/plain": [
       "{0: 0.5559034736138945, 1: 4.971994025392084}"
      ]
     },
     "execution_count": 92,
     "metadata": {},
     "output_type": "execute_result"
    }
   ],
   "source": [
    "class_weights = dict(enumerate(weights))\n",
    "class_weights"
   ]
  },
  {
   "cell_type": "code",
   "execution_count": null,
   "metadata": {},
   "outputs": [],
   "source": [
    "def basic_model(input_shape):\n",
    "    learning_rate = 0.001\n",
    "    input_layer = Input(shape=(input_shape,))\n",
    "    h = Dense(512,  activation='relu', activity_regularizer=regularizers.l2(learning_rate))(input_layer)\n",
    "    h= Dropout(0.8)(h)\n",
    "    h = Dense(256, activation='relu')(h)\n",
    "    h = Dense(128, activation='relu')(h)\n",
    "    h = Dense(64, activation='relu')(h)\n",
    "    h = Dense(32, activation='relu')(h)\n",
    "    output = Dense(2, activation='softmax')(h)\n",
    "       \n",
    "\n",
    "    model = Model(input_layer, output)\n",
    "    model.compile(optimizer='adam', loss='categorical_crossentropy', metrics=[ 'accuracy'])\n",
    "    return model\n"
   ]
  },
  {
   "cell_type": "code",
   "execution_count": null,
   "metadata": {},
   "outputs": [],
   "source": [
    "model = basic_model(input_shape)\n",
    "model.summary()"
   ]
  },
  {
   "cell_type": "code",
   "execution_count": null,
   "metadata": {},
   "outputs": [],
   "source": [
    "experiment_no = 2"
   ]
  },
  {
   "cell_type": "code",
   "execution_count": null,
   "metadata": {},
   "outputs": [],
   "source": [
    "mcp_save = ModelCheckpoint(filepath='./model_{}.hdf5'.format(experiment_no), save_best_only=True, monitor='val_acc', mode='max')\n",
    "reduce_lr_loss = ReduceLROnPlateau(monitor='val_loss', factor=0.1, patience=3, verbose=1, epsilon=1e-4, mode='min')\n"
   ]
  },
  {
   "cell_type": "code",
   "execution_count": null,
   "metadata": {},
   "outputs": [],
   "source": []
  },
  {
   "cell_type": "code",
   "execution_count": null,
   "metadata": {},
   "outputs": [],
   "source": [
    "history = model.fit(X_train, Y_train,\n",
    "                epochs=50,\n",
    "                batch_size=64,\n",
    "                shuffle=True,\n",
    "                validation_data=(X_val, Y_val),\n",
    "                verbose=1,\n",
    "                class_weight=class_weights,\n",
    "                callbacks=[ mcp_save]) "
   ]
  },
  {
   "cell_type": "code",
   "execution_count": 211,
   "metadata": {},
   "outputs": [],
   "source": [
    "model.load_weights('./model_{}.hdf5'.format(experiment_no))"
   ]
  },
  {
   "cell_type": "code",
   "execution_count": 190,
   "metadata": {},
   "outputs": [
    {
     "data": {
      "image/png": "[encoded data removed]",
      "text/plain": [
       "<Figure size 432x288 with 1 Axes>"
      ]
     },
     "metadata": {
      "needs_background": "light"
     },
     "output_type": "display_data"
    }
   ],
   "source": [
    "# Plot training & validation loss values\n",
    "plt.plot(history.history['loss'])\n",
    "plt.plot(history.history['val_loss'])\n",
    "plt.title('Model loss')\n",
    "plt.ylabel('Loss')\n",
    "plt.xlabel('Epoch')\n",
    "plt.legend(['Train', 'Test'], loc='upper left')\n",
    "plt.show()"
   ]
  },
  {
   "cell_type": "code",
   "execution_count": 171,
   "metadata": {},
   "outputs": [],
   "source": [
    "def accuracy(Y_test, predictions):\n",
    "    accuracy = accuracy_score(Y_test, predictions)\n",
    "    print(\"Accuracy: %.2f%%\" % (accuracy * 100.0))"
   ]
  },
  {
   "cell_type": "code",
   "execution_count": 172,
   "metadata": {},
   "outputs": [],
   "source": [
    "def mse(y_true, y_pred):\n",
    "    return np.mean(np.square(y_pred - y_true), axis=-1 )\n",
    "\n",
    "def predict(model,X_test):\n",
    "    Y_pred = model.predict(X_test)\n",
    "    return Y_pred\n",
    "\n",
    "def evaluate(Y_test, Y_pred):\n",
    "    Y_pred = np.argmax(Y_pred, axis=1)\n",
    "    Y_true = np.argmax(Y_test, axis=1)\n",
    "    print(Y_pred, Y_true)\n",
    "    conf_matrix = confusion_matrix(Y_true, Y_pred)\n",
    "    print(conf_matrix)\n",
    "    print(f1_score(Y_true, Y_pred))\n",
    "    print(classification_report(Y_true, Y_pred))\n",
    "    return Y_pred\n",
    "\n",
    "def plot_sample(loss, plt, title):\n",
    "\n",
    "\n",
    "    plt.plot(loss)\n",
    "    plt.set_ylabel('Loss')\n",
    "    plt.set_xlabel('Epoch')\n",
    "   "
   ]
  },
  {
   "cell_type": "code",
   "execution_count": 207,
   "metadata": {},
   "outputs": [],
   "source": [
    "Y_pred = predict(model,X_test)"
   ]
  },
  {
   "cell_type": "code",
   "execution_count": 192,
   "metadata": {},
   "outputs": [
    {
     "name": "stdout",
     "output_type": "stream",
     "text": [
      "[1 1 0 ... 1 0 1] [0 0 0 ... 0 0 0]\n",
      "[[2448  705]\n",
      " [ 183  169]]\n",
      "0.2756933115823817\n",
      "              precision    recall  f1-score   support\n",
      "\n",
      "           0       0.93      0.78      0.85      3153\n",
      "           1       0.19      0.48      0.28       352\n",
      "\n",
      "    accuracy                           0.75      3505\n",
      "   macro avg       0.56      0.63      0.56      3505\n",
      "weighted avg       0.86      0.75      0.79      3505\n",
      "\n"
     ]
    },
    {
     "data": {
      "text/plain": [
       "array([1, 1, 0, ..., 1, 0, 1])"
      ]
     },
     "execution_count": 192,
     "metadata": {},
     "output_type": "execute_result"
    }
   ],
   "source": [
    "evaluate(Y_test, Y_pred)"
   ]
  },
  {
   "cell_type": "code",
   "execution_count": 132,
   "metadata": {},
   "outputs": [],
   "source": [
    "test_df = pd.read_csv(\"./input/Test_Cleaned.csv\")"
   ]
  },
  {
   "cell_type": "code",
   "execution_count": 133,
   "metadata": {},
   "outputs": [],
   "source": [
    "id_series = test_df['Col1']"
   ]
  },
  {
   "cell_type": "code",
   "execution_count": 134,
   "metadata": {},
   "outputs": [],
   "source": [
    "submission_df = pd.DataFrame({'Col1':id_series}) "
   ]
  },
  {
   "cell_type": "code",
   "execution_count": 135,
   "metadata": {},
   "outputs": [],
   "source": [
    "test_df = drop_col(test_df, ['Col1'])"
   ]
  },
  {
   "cell_type": "code",
   "execution_count": 136,
   "metadata": {},
   "outputs": [],
   "source": [
    "test_df =  test_df.reindex(sorted(test_df.columns), axis=1)"
   ]
  },
  {
   "cell_type": "code",
   "execution_count": 137,
   "metadata": {},
   "outputs": [
    {
     "data": {
      "text/html": [
       "<div>\n",
       "<style scoped>\n",
       "    .dataframe tbody tr th:only-of-type {\n",
       "        vertical-align: middle;\n",
       "    }\n",
       "\n",
       "    .dataframe tbody tr th {\n",
       "        vertical-align: top;\n",
       "    }\n",
       "\n",
       "    .dataframe thead th {\n",
       "        text-align: right;\n",
       "    }\n",
       "</style>\n",
       "<table border=\"1\" class=\"dataframe\">\n",
       "  <thead>\n",
       "    <tr style=\"text-align: right;\">\n",
       "      <th></th>\n",
       "      <th>Col10</th>\n",
       "      <th>Col100</th>\n",
       "      <th>Col1000</th>\n",
       "      <th>Col1001</th>\n",
       "      <th>Col1002</th>\n",
       "      <th>Col1003</th>\n",
       "      <th>Col1004</th>\n",
       "      <th>Col1005</th>\n",
       "      <th>Col1006</th>\n",
       "      <th>Col1007</th>\n",
       "      <th>...</th>\n",
       "      <th>Col990</th>\n",
       "      <th>Col991</th>\n",
       "      <th>Col992</th>\n",
       "      <th>Col993</th>\n",
       "      <th>Col994</th>\n",
       "      <th>Col995</th>\n",
       "      <th>Col996</th>\n",
       "      <th>Col997</th>\n",
       "      <th>Col998</th>\n",
       "      <th>Col999</th>\n",
       "    </tr>\n",
       "  </thead>\n",
       "  <tbody>\n",
       "    <tr>\n",
       "      <td>0</td>\n",
       "      <td>3.053853e+04</td>\n",
       "      <td>0.000000</td>\n",
       "      <td>0</td>\n",
       "      <td>0</td>\n",
       "      <td>0</td>\n",
       "      <td>0</td>\n",
       "      <td>0</td>\n",
       "      <td>0</td>\n",
       "      <td>0</td>\n",
       "      <td>0</td>\n",
       "      <td>...</td>\n",
       "      <td>0</td>\n",
       "      <td>0</td>\n",
       "      <td>0</td>\n",
       "      <td>0</td>\n",
       "      <td>0</td>\n",
       "      <td>0</td>\n",
       "      <td>0</td>\n",
       "      <td>0</td>\n",
       "      <td>0</td>\n",
       "      <td>0</td>\n",
       "    </tr>\n",
       "    <tr>\n",
       "      <td>1</td>\n",
       "      <td>1.147556e+07</td>\n",
       "      <td>0.000000</td>\n",
       "      <td>4</td>\n",
       "      <td>2</td>\n",
       "      <td>3</td>\n",
       "      <td>2</td>\n",
       "      <td>3</td>\n",
       "      <td>2</td>\n",
       "      <td>0</td>\n",
       "      <td>0</td>\n",
       "      <td>...</td>\n",
       "      <td>0</td>\n",
       "      <td>0</td>\n",
       "      <td>2</td>\n",
       "      <td>1</td>\n",
       "      <td>4</td>\n",
       "      <td>2</td>\n",
       "      <td>3</td>\n",
       "      <td>2</td>\n",
       "      <td>4</td>\n",
       "      <td>1</td>\n",
       "    </tr>\n",
       "    <tr>\n",
       "      <td>2</td>\n",
       "      <td>3.904086e+05</td>\n",
       "      <td>2.000000</td>\n",
       "      <td>3</td>\n",
       "      <td>2</td>\n",
       "      <td>0</td>\n",
       "      <td>0</td>\n",
       "      <td>1</td>\n",
       "      <td>0</td>\n",
       "      <td>2</td>\n",
       "      <td>1</td>\n",
       "      <td>...</td>\n",
       "      <td>0</td>\n",
       "      <td>0</td>\n",
       "      <td>0</td>\n",
       "      <td>0</td>\n",
       "      <td>2</td>\n",
       "      <td>3</td>\n",
       "      <td>2</td>\n",
       "      <td>2</td>\n",
       "      <td>2</td>\n",
       "      <td>1</td>\n",
       "    </tr>\n",
       "    <tr>\n",
       "      <td>3</td>\n",
       "      <td>8.650108e+04</td>\n",
       "      <td>1.864248</td>\n",
       "      <td>0</td>\n",
       "      <td>0</td>\n",
       "      <td>0</td>\n",
       "      <td>0</td>\n",
       "      <td>0</td>\n",
       "      <td>0</td>\n",
       "      <td>0</td>\n",
       "      <td>0</td>\n",
       "      <td>...</td>\n",
       "      <td>0</td>\n",
       "      <td>0</td>\n",
       "      <td>1</td>\n",
       "      <td>1</td>\n",
       "      <td>0</td>\n",
       "      <td>0</td>\n",
       "      <td>0</td>\n",
       "      <td>0</td>\n",
       "      <td>0</td>\n",
       "      <td>0</td>\n",
       "    </tr>\n",
       "    <tr>\n",
       "      <td>4</td>\n",
       "      <td>2.528307e+05</td>\n",
       "      <td>0.000000</td>\n",
       "      <td>1</td>\n",
       "      <td>0</td>\n",
       "      <td>0</td>\n",
       "      <td>0</td>\n",
       "      <td>1</td>\n",
       "      <td>0</td>\n",
       "      <td>0</td>\n",
       "      <td>0</td>\n",
       "      <td>...</td>\n",
       "      <td>0</td>\n",
       "      <td>0</td>\n",
       "      <td>0</td>\n",
       "      <td>0</td>\n",
       "      <td>0</td>\n",
       "      <td>0</td>\n",
       "      <td>0</td>\n",
       "      <td>0</td>\n",
       "      <td>1</td>\n",
       "      <td>0</td>\n",
       "    </tr>\n",
       "  </tbody>\n",
       "</table>\n",
       "<p>5 rows × 2171 columns</p>\n",
       "</div>"
      ],
      "text/plain": [
       "          Col10    Col100  Col1000  Col1001  Col1002  Col1003  Col1004  \\\n",
       "0  3.053853e+04  0.000000        0        0        0        0        0   \n",
       "1  1.147556e+07  0.000000        4        2        3        2        3   \n",
       "2  3.904086e+05  2.000000        3        2        0        0        1   \n",
       "3  8.650108e+04  1.864248        0        0        0        0        0   \n",
       "4  2.528307e+05  0.000000        1        0        0        0        1   \n",
       "\n",
       "   Col1005  Col1006  Col1007  ...  Col990  Col991  Col992  Col993  Col994  \\\n",
       "0        0        0        0  ...       0       0       0       0       0   \n",
       "1        2        0        0  ...       0       0       2       1       4   \n",
       "2        0        2        1  ...       0       0       0       0       2   \n",
       "3        0        0        0  ...       0       0       1       1       0   \n",
       "4        0        0        0  ...       0       0       0       0       0   \n",
       "\n",
       "   Col995  Col996  Col997  Col998  Col999  \n",
       "0       0       0       0       0       0  \n",
       "1       2       3       2       4       1  \n",
       "2       3       2       2       2       1  \n",
       "3       0       0       0       0       0  \n",
       "4       0       0       0       1       0  \n",
       "\n",
       "[5 rows x 2171 columns]"
      ]
     },
     "execution_count": 137,
     "metadata": {},
     "output_type": "execute_result"
    }
   ],
   "source": [
    "test_df.head()"
   ]
  },
  {
   "cell_type": "code",
   "execution_count": 139,
   "metadata": {},
   "outputs": [],
   "source": [
    "def preprocess_test(df):\n",
    "    X = df.to_numpy()\n",
    "    X_transformed = transformer.transform(X)\n",
    "    return X_transformed"
   ]
  },
  {
   "cell_type": "code",
   "execution_count": 140,
   "metadata": {},
   "outputs": [
    {
     "data": {
      "text/plain": [
       "(20442, 2171)"
      ]
     },
     "execution_count": 140,
     "metadata": {},
     "output_type": "execute_result"
    }
   ],
   "source": [
    "test_X = preprocess_test(test_df)\n",
    "test_X.shape"
   ]
  },
  {
   "cell_type": "code",
   "execution_count": 193,
   "metadata": {},
   "outputs": [],
   "source": [
    "Y_pred = predict(model,test_X)\n",
    "Y_pred_actual = np.argmax(Y_pred, axis=1)"
   ]
  },
  {
   "cell_type": "code",
   "execution_count": 194,
   "metadata": {},
   "outputs": [
    {
     "data": {
      "text/plain": [
       "array([1, 1, 1, ..., 0, 1, 1])"
      ]
     },
     "execution_count": 194,
     "metadata": {},
     "output_type": "execute_result"
    }
   ],
   "source": [
    "Y_pred_actual"
   ]
  },
  {
   "cell_type": "code",
   "execution_count": 195,
   "metadata": {},
   "outputs": [],
   "source": [
    "submission_df['Col2'] = pd.Series(Y_pred_actual)"
   ]
  },
  {
   "cell_type": "code",
   "execution_count": 196,
   "metadata": {},
   "outputs": [
    {
     "data": {
      "text/html": [
       "<div>\n",
       "<style scoped>\n",
       "    .dataframe tbody tr th:only-of-type {\n",
       "        vertical-align: middle;\n",
       "    }\n",
       "\n",
       "    .dataframe tbody tr th {\n",
       "        vertical-align: top;\n",
       "    }\n",
       "\n",
       "    .dataframe thead th {\n",
       "        text-align: right;\n",
       "    }\n",
       "</style>\n",
       "<table border=\"1\" class=\"dataframe\">\n",
       "  <thead>\n",
       "    <tr style=\"text-align: right;\">\n",
       "      <th></th>\n",
       "      <th>Col1</th>\n",
       "      <th>Col2</th>\n",
       "    </tr>\n",
       "  </thead>\n",
       "  <tbody>\n",
       "    <tr>\n",
       "      <td>0</td>\n",
       "      <td>RIGD58ZWD</td>\n",
       "      <td>1</td>\n",
       "    </tr>\n",
       "    <tr>\n",
       "      <td>1</td>\n",
       "      <td>RIH660YDS</td>\n",
       "      <td>1</td>\n",
       "    </tr>\n",
       "    <tr>\n",
       "      <td>2</td>\n",
       "      <td>RIH660Q96</td>\n",
       "      <td>1</td>\n",
       "    </tr>\n",
       "    <tr>\n",
       "      <td>3</td>\n",
       "      <td>RIYDO15W1</td>\n",
       "      <td>1</td>\n",
       "    </tr>\n",
       "    <tr>\n",
       "      <td>4</td>\n",
       "      <td>RIYBGC1ZD</td>\n",
       "      <td>0</td>\n",
       "    </tr>\n",
       "  </tbody>\n",
       "</table>\n",
       "</div>"
      ],
      "text/plain": [
       "        Col1  Col2\n",
       "0  RIGD58ZWD     1\n",
       "1  RIH660YDS     1\n",
       "2  RIH660Q96     1\n",
       "3  RIYDO15W1     1\n",
       "4  RIYBGC1ZD     0"
      ]
     },
     "execution_count": 196,
     "metadata": {},
     "output_type": "execute_result"
    }
   ],
   "source": [
    "submission_df.head()"
   ]
  },
  {
   "cell_type": "code",
   "execution_count": 197,
   "metadata": {},
   "outputs": [],
   "source": [
    "submission_df.to_csv(\"submission_v4_nn.csv\", index=False, header=True)"
   ]
  },
  {
   "cell_type": "code",
   "execution_count": 198,
   "metadata": {},
   "outputs": [
    {
     "data": {
      "text/html": [
       "<div>\n",
       "<style scoped>\n",
       "    .dataframe tbody tr th:only-of-type {\n",
       "        vertical-align: middle;\n",
       "    }\n",
       "\n",
       "    .dataframe tbody tr th {\n",
       "        vertical-align: top;\n",
       "    }\n",
       "\n",
       "    .dataframe thead th {\n",
       "        text-align: right;\n",
       "    }\n",
       "</style>\n",
       "<table border=\"1\" class=\"dataframe\">\n",
       "  <thead>\n",
       "    <tr style=\"text-align: right;\">\n",
       "      <th></th>\n",
       "      <th>Col1</th>\n",
       "    </tr>\n",
       "    <tr>\n",
       "      <th>Col2</th>\n",
       "      <th></th>\n",
       "    </tr>\n",
       "  </thead>\n",
       "  <tbody>\n",
       "    <tr>\n",
       "      <td>0</td>\n",
       "      <td>8374</td>\n",
       "    </tr>\n",
       "    <tr>\n",
       "      <td>1</td>\n",
       "      <td>12068</td>\n",
       "    </tr>\n",
       "  </tbody>\n",
       "</table>\n",
       "</div>"
      ],
      "text/plain": [
       "       Col1\n",
       "Col2       \n",
       "0      8374\n",
       "1     12068"
      ]
     },
     "execution_count": 198,
     "metadata": {},
     "output_type": "execute_result"
    }
   ],
   "source": [
    "submission_df.groupby('Col2').count()"
   ]
  },
  {
   "cell_type": "code",
   "execution_count": null,
   "metadata": {},
   "outputs": [],
   "source": []
  }
 ],
 "metadata": {
  "kernelspec": {
   "display_name": "Python 3",
   "language": "python",
   "name": "python3"
  },
  "language_info": {
   "codemirror_mode": {
    "name": "ipython",
    "version": 3
   },
   "file_extension": ".py",
   "mimetype": "text/x-python",
   "name": "python",
   "nbconvert_exporter": "python",
   "pygments_lexer": "ipython3",
   "version": "3.5.3"
  }
 },
 "nbformat": 4,
 "nbformat_minor": 4
}
